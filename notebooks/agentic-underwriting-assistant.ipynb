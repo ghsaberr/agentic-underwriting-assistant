{
 "cells": [
  {
   "cell_type": "markdown",
   "id": "c7096a4a-c386-4146-a30d-36ef2f41fc0f",
   "metadata": {},
   "source": [
    "# Agentic Underwriting Assistant"
   ]
  }
 ],
 "metadata": {
  "kernelspec": {
   "display_name": "Python 3 (ipykernel)",
   "language": "python",
   "name": "python3"
  },
  "language_info": {
   "codemirror_mode": {
    "name": "ipython",
    "version": 3
   },
   "file_extension": ".py",
   "mimetype": "text/x-python",
   "name": "python",
   "nbconvert_exporter": "python",
   "pygments_lexer": "ipython3",
   "version": "3.11.1"
  }
 },
 "nbformat": 4,
 "nbformat_minor": 5
}
